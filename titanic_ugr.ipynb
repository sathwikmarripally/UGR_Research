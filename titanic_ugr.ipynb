{
  "nbformat": 4,
  "nbformat_minor": 0,
  "metadata": {
    "colab": {
      "provenance": [],
      "authorship_tag": "ABX9TyPtkQttSyLa0Ogw30jm1NP5",
      "include_colab_link": true
    },
    "kernelspec": {
      "name": "python3",
      "display_name": "Python 3"
    },
    "language_info": {
      "name": "python"
    }
  },
  "cells": [
    {
      "cell_type": "markdown",
      "metadata": {
        "id": "view-in-github",
        "colab_type": "text"
      },
      "source": [
        "<a href=\"https://colab.research.google.com/github/sathwikmarripally/UGR_Research/blob/main/titanic_ugr.ipynb\" target=\"_parent\"><img src=\"https://colab.research.google.com/assets/colab-badge.svg\" alt=\"Open In Colab\"/></a>"
      ]
    },
    {
      "cell_type": "markdown",
      "source": [
        "<h2>Import Libraries and load data."
      ],
      "metadata": {
        "id": "aTaVN3RKykqp"
      }
    },
    {
      "cell_type": "code",
      "execution_count": 14,
      "metadata": {
        "id": "8eBhG_Gtx92i"
      },
      "outputs": [],
      "source": [
        "import pandas as pd\n",
        "import numpy as np\n",
        "import matplotlib.pyplot as plt\n",
        "import seaborn as sns\n",
        "from sklearn.model_selection import train_test_split\n",
        "from sklearn.preprocessing import LabelEncoder\n",
        "from sklearn.metrics import accuracy_score, confusion_matrix, ConfusionMatrixDisplay\n",
        "import xgboost as xgb\n",
        "\n",
        "# Load data\n",
        "train_data = pd.read_csv('/content/train.csv')\n",
        "test_data = pd.read_csv('/content/test.csv')\n"
      ]
    },
    {
      "cell_type": "markdown",
      "source": [
        "<h3>Data Exploration and Initial Visualization</h3>"
      ],
      "metadata": {
        "id": "K-5mb3Lcy2Q8"
      }
    },
    {
      "cell_type": "code",
      "source": [
        "# Quick data overview\n",
        "print(train_data.head())\n",
        "print(train_data.info())\n",
        "\n",
        "# Visualize survival rates based on Pclass and Sex\n",
        "sns.countplot(data=train_data, x='Pclass', hue='Survived')\n",
        "plt.title('Survival Rates by Pclass')\n",
        "plt.show()\n",
        "\n",
        "sns.countplot(data=train_data, x='Sex', hue='Survived')\n",
        "plt.title('Survival Rates by Sex')\n",
        "plt.show()\n"
      ],
      "metadata": {
        "colab": {
          "base_uri": "https://localhost:8080/",
          "height": 1000
        },
        "id": "ULx2_1sXy8IF",
        "outputId": "c13753d4-155c-4a66-acc1-a0695748d016"
      },
      "execution_count": 15,
      "outputs": [
        {
          "output_type": "stream",
          "name": "stdout",
          "text": [
            "   PassengerId  Survived  Pclass  \\\n",
            "0            1         0       3   \n",
            "1            2         1       1   \n",
            "2            3         1       3   \n",
            "3            4         1       1   \n",
            "4            5         0       3   \n",
            "\n",
            "                                                Name     Sex   Age  SibSp  \\\n",
            "0                            Braund, Mr. Owen Harris    male  22.0      1   \n",
            "1  Cumings, Mrs. John Bradley (Florence Briggs Th...  female  38.0      1   \n",
            "2                             Heikkinen, Miss. Laina  female  26.0      0   \n",
            "3       Futrelle, Mrs. Jacques Heath (Lily May Peel)  female  35.0      1   \n",
            "4                           Allen, Mr. William Henry    male  35.0      0   \n",
            "\n",
            "   Parch            Ticket     Fare Cabin Embarked  \n",
            "0      0         A/5 21171   7.2500   NaN        S  \n",
            "1      0          PC 17599  71.2833   C85        C  \n",
            "2      0  STON/O2. 3101282   7.9250   NaN        S  \n",
            "3      0            113803  53.1000  C123        S  \n",
            "4      0            373450   8.0500   NaN        S  \n",
            "<class 'pandas.core.frame.DataFrame'>\n",
            "RangeIndex: 891 entries, 0 to 890\n",
            "Data columns (total 12 columns):\n",
            " #   Column       Non-Null Count  Dtype  \n",
            "---  ------       --------------  -----  \n",
            " 0   PassengerId  891 non-null    int64  \n",
            " 1   Survived     891 non-null    int64  \n",
            " 2   Pclass       891 non-null    int64  \n",
            " 3   Name         891 non-null    object \n",
            " 4   Sex          891 non-null    object \n",
            " 5   Age          714 non-null    float64\n",
            " 6   SibSp        891 non-null    int64  \n",
            " 7   Parch        891 non-null    int64  \n",
            " 8   Ticket       891 non-null    object \n",
            " 9   Fare         891 non-null    float64\n",
            " 10  Cabin        204 non-null    object \n",
            " 11  Embarked     889 non-null    object \n",
            "dtypes: float64(2), int64(5), object(5)\n",
            "memory usage: 83.7+ KB\n",
            "None\n"
          ]
        },
        {
          "output_type": "display_data",
          "data": {
            "text/plain": [
              "<Figure size 640x480 with 1 Axes>"
            ],
            "image/png": "[encoded data removed]"
          },
          "metadata": {}
        },
        {
          "output_type": "display_data",
          "data": {
            "text/plain": [
              "<Figure size 640x480 with 1 Axes>"
            ],
            "image/png": "[encoded data removed]"
          },
          "metadata": {}
        }
      ]
    },
    {
      "cell_type": "markdown",
      "source": [
        "<h3>Fill Missing Values </h3>"
      ],
      "metadata": {
        "id": "GRtEUr1dzBBm"
      }
    },
    {
      "cell_type": "code",
      "source": [
        "# Fill missing 'Age' based on the median, grouped by 'Pclass' and 'Sex'\n",
        "train_data['Age'] = train_data.groupby(['Pclass', 'Sex'])['Age'].transform(lambda x: x.fillna(x.median()))\n",
        "test_data['Age'] = test_data.groupby(['Pclass', 'Sex'])['Age'].transform(lambda x: x.fillna(x.median()))\n",
        "\n",
        "# Fill missing 'Embarked' with the mode\n",
        "train_data['Embarked'] = train_data['Embarked'].fillna(train_data['Embarked'].mode()[0])\n",
        "\n",
        "# Fill missing 'Fare' in the test set with the median\n",
        "test_data['Fare'] = test_data['Fare'].fillna(test_data['Fare'].median())\n"
      ],
      "metadata": {
        "id": "NwDjch_MzAug"
      },
      "execution_count": 16,
      "outputs": []
    },
    {
      "cell_type": "markdown",
      "source": [
        "<h3>Feature Engineering</h3>"
      ],
      "metadata": {
        "id": "PZPnt8nmzXom"
      }
    },
    {
      "cell_type": "code",
      "source": [
        "# Create 'FamilySize' feature\n",
        "train_data['FamilySize'] = train_data['SibSp'] + train_data['Parch'] + 1\n",
        "test_data['FamilySize'] = test_data['SibSp'] + test_data['Parch'] + 1\n",
        "\n",
        "# Create 'IsAlone' feature\n",
        "train_data['IsAlone'] = (train_data['FamilySize'] == 1).astype(int)\n",
        "test_data['IsAlone'] = (test_data['FamilySize'] == 1).astype(int)\n",
        "\n",
        "# Create 'HasCabin' feature\n",
        "train_data['HasCabin'] = train_data['Cabin'].notnull().astype(int)\n",
        "test_data['HasCabin'] = test_data['Cabin'].notnull().astype(int)\n",
        "\n",
        "# Extract 'Title' from 'Name' and simplify\n",
        "train_data['Title'] = train_data['Name'].str.extract(' ([A-Za-z]+)\\.', expand=False)\n",
        "test_data['Title'] = test_data['Name'].str.extract(' ([A-Za-z]+)\\.', expand=False)\n",
        "train_data['Title'] = train_data['Title'].replace(\n",
        "    ['Lady', 'Countess', 'Capt', 'Col', 'Don', 'Dr', 'Major', 'Rev', 'Sir', 'Jonkheer', 'Dona'], 'Rare'\n",
        ")\n",
        "test_data['Title'] = test_data['Title'].replace(\n",
        "    ['Lady', 'Countess', 'Capt', 'Col', 'Don', 'Dr', 'Major', 'Rev', 'Sir', 'Jonkheer', 'Dona'], 'Rare'\n",
        ")\n",
        "title_mapping = {\"Mr\": 1, \"Miss\": 2, \"Mrs\": 3, \"Master\": 4, \"Rare\": 5}\n",
        "train_data['Title'] = train_data['Title'].map(title_mapping).fillna(0)\n",
        "test_data['Title'] = test_data['Title'].map(title_mapping).fillna(0)\n"
      ],
      "metadata": {
        "id": "zlNibVQPzdU9"
      },
      "execution_count": 17,
      "outputs": []
    },
    {
      "cell_type": "markdown",
      "source": [
        "<h3>Encode Categorical Variables </h3>"
      ],
      "metadata": {
        "id": "y2HR86MFzgyM"
      }
    },
    {
      "cell_type": "code",
      "source": [
        "# Encode 'Sex' and 'Embarked'\n",
        "label_encoder = LabelEncoder()\n",
        "train_data['Sex'] = label_encoder.fit_transform(train_data['Sex'])\n",
        "test_data['Sex'] = label_encoder.transform(test_data['Sex'])\n",
        "\n",
        "train_data['Embarked'] = label_encoder.fit_transform(train_data['Embarked'])\n",
        "test_data['Embarked'] = label_encoder.transform(test_data['Embarked'])\n"
      ],
      "metadata": {
        "id": "0KYfH-C4zmcg"
      },
      "execution_count": 18,
      "outputs": []
    },
    {
      "cell_type": "markdown",
      "source": [
        "<h3> Prepare Features and Labels</h3>"
      ],
      "metadata": {
        "id": "iMXFrSijzpk9"
      }
    },
    {
      "cell_type": "code",
      "source": [
        "# Defining features for the model\n",
        "features = ['Pclass', 'Sex', 'Age', 'Fare', 'Embarked', 'FamilySize', 'IsAlone', 'HasCabin', 'Title']\n",
        "X_train = train_data[features]\n",
        "y_train = train_data['Survived']\n",
        "X_test = test_data[features]\n"
      ],
      "metadata": {
        "id": "89BheTkMzvyI"
      },
      "execution_count": 19,
      "outputs": []
    },
    {
      "cell_type": "markdown",
      "source": [
        "<h3>Split Training Data for Validation</h3>"
      ],
      "metadata": {
        "id": "s6wEEgiUzyPk"
      }
    },
    {
      "cell_type": "code",
      "source": [
        "X_train_part, X_val, y_train_part, y_val = train_test_split(X_train, y_train, test_size=0.2, random_state=42)\n"
      ],
      "metadata": {
        "id": "b08B-l1Xz1eV"
      },
      "execution_count": 20,
      "outputs": []
    },
    {
      "cell_type": "markdown",
      "source": [
        "<h3>Train XGBoost Model</h3>"
      ],
      "metadata": {
        "id": "9SqEc7hXz4J7"
      }
    },
    {
      "cell_type": "code",
      "source": [
        "# Set up and train the XGBoost classifier\n",
        "xgb_model = xgb.XGBClassifier(n_estimators=100, max_depth=3, learning_rate=0.1)\n",
        "xgb_model.fit(X_train_part, y_train_part)\n",
        "\n",
        "# Make predictions on the validation set\n",
        "y_val_pred = xgb_model.predict(X_val)\n"
      ],
      "metadata": {
        "id": "tkL53fVrz8Rx"
      },
      "execution_count": 21,
      "outputs": []
    },
    {
      "cell_type": "markdown",
      "source": [
        "<h3>Evaluate Model Performance</h3>"
      ],
      "metadata": {
        "id": "0c6kxxR-z-0o"
      }
    },
    {
      "cell_type": "code",
      "source": [
        "# Calculate classification accuracy\n",
        "val_accuracy = accuracy_score(y_val, y_val_pred)\n",
        "print(f'Validation Accuracy: {val_accuracy:.4f}')\n",
        "\n",
        "# Generate confusion matrix\n",
        "conf_matrix = confusion_matrix(y_val, y_val_pred)\n",
        "disp = ConfusionMatrixDisplay(confusion_matrix=conf_matrix, display_labels=[0, 1])\n",
        "disp.plot(cmap='Blues')\n",
        "plt.title('Confusion Matrix')\n",
        "plt.show()\n",
        "\n",
        "# Calculate and display misclassification rate\n",
        "misclassification_rate = 1 - val_accuracy\n",
        "print(f'Misclassification Rate: {misclassification_rate:.4f}')\n"
      ],
      "metadata": {
        "colab": {
          "base_uri": "https://localhost:8080/",
          "height": 507
        },
        "id": "r2hnQLcB0CQw",
        "outputId": "46459a1d-0f77-420e-9983-d47b5a1fabc8"
      },
      "execution_count": 22,
      "outputs": [
        {
          "output_type": "stream",
          "name": "stdout",
          "text": [
            "Validation Accuracy: 0.8268\n"
          ]
        },
        {
          "output_type": "display_data",
          "data": {
            "text/plain": [
              "<Figure size 640x480 with 2 Axes>"
            ],
            "image/png": "[encoded data removed]"
          },
          "metadata": {}
        },
        {
          "output_type": "stream",
          "name": "stdout",
          "text": [
            "Misclassification Rate: 0.1732\n"
          ]
        }
      ]
    },
    {
      "cell_type": "markdown",
      "source": [
        "<h3>Generate Submission File</h3>"
      ],
      "metadata": {
        "id": "viUbN5MN0QpI"
      }
    },
    {
      "cell_type": "code",
      "source": [
        "# Predict on the test set\n",
        "y_test_pred = xgb_model.predict(X_test)\n",
        "\n",
        "# Create submission DataFrame\n",
        "submission = pd.DataFrame({\n",
        "    'PassengerId': test_data['PassengerId'],\n",
        "    'Survived': y_test_pred\n",
        "})\n",
        "\n",
        "# Save to CSV\n",
        "submission.to_csv('submission.csv', index=False)\n",
        "print(\"Submission file generated: submission.csv\")\n"
      ],
      "metadata": {
        "colab": {
          "base_uri": "https://localhost:8080/"
        },
        "id": "VEu5SRH60WPA",
        "outputId": "be6f5164-8975-4b4e-b1e5-f1608e4ca727"
      },
      "execution_count": 23,
      "outputs": [
        {
          "output_type": "stream",
          "name": "stdout",
          "text": [
            "Submission file generated: submission.csv\n"
          ]
        }
      ]
    }
  ]
}